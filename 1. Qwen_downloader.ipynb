{
 "cells": [
  {
   "cell_type": "code",
   "execution_count": null,
   "id": "e9f83c93-7db9-496d-bc34-e9eeb0c03dfa",
   "metadata": {},
   "outputs": [
    {
     "data": {
      "application/vnd.jupyter.widget-view+json": {
       "model_id": "af91e7a06a914e16af31ef62be8286ee",
       "version_major": 2,
       "version_minor": 0
      },
      "text/plain": [
       "Wan2_2-T2V-A14B-LOW_fp8_e4m3fn_scaled_KJ.safetensors:   0%|          | 0.00/14.0G [00:00<?, ?B/s]"
      ]
     },
     "metadata": {},
     "output_type": "display_data"
    },
    {
     "data": {
      "application/vnd.jupyter.widget-view+json": {
       "model_id": "307b7a8d52634b32867b8e4be764c949",
       "version_major": 2,
       "version_minor": 0
      },
      "text/plain": [
       "Wan2_2-T2V-A14B_HIGH_fp8_e4m3fn_scaled_KJ.safetensors:   0%|          | 0.00/14.0G [00:00<?, ?B/s]"
      ]
     },
     "metadata": {},
     "output_type": "display_data"
    },
    {
     "data": {
      "application/vnd.jupyter.widget-view+json": {
       "model_id": "c3524aeb5bc0418a8a1c76d56c8893da",
       "version_major": 2,
       "version_minor": 0
      },
      "text/plain": [
       "umt5-xxl-enc-bf16.safetensors:   0%|          | 0.00/10.6G [00:00<?, ?B/s]"
      ]
     },
     "metadata": {},
     "output_type": "display_data"
    },
    {
     "data": {
      "application/vnd.jupyter.widget-view+json": {
       "model_id": "83c38c7949a84c5989ca9109d6a97a68",
       "version_major": 2,
       "version_minor": 0
      },
      "text/plain": [
       "wan_2.1_vae.safetensors:   0%|          | 0.00/242M [00:00<?, ?B/s]"
      ]
     },
     "metadata": {},
     "output_type": "display_data"
    },
    {
     "data": {
      "application/vnd.jupyter.widget-view+json": {
       "model_id": "e63f83377a3844e584d43d6537b56bb4",
       "version_major": 2,
       "version_minor": 0
      },
      "text/plain": [
       "Wan2.2-Lightning_T2V-v1.1-A14B-4steps-lora_HIGH_fp16.safetensors:   0%|          | 0.00/585M [00:00<?, ?B/s]"
      ]
     },
     "metadata": {},
     "output_type": "display_data"
    },
    {
     "data": {
      "application/vnd.jupyter.widget-view+json": {
       "model_id": "489b5d504685471ab5c90ca59b0b83b0",
       "version_major": 2,
       "version_minor": 0
      },
      "text/plain": [
       "Wan2.2-Lightning_T2V-v1.1-A14B-4steps-lora_LOW_fp16.safetensors:   0%|          | 0.00/585M [00:00<?, ?B/s]"
      ]
     },
     "metadata": {},
     "output_type": "display_data"
    },
    {
     "name": "stdout",
     "output_type": "stream",
     "text": [
      "Все файлы успешно скачаны и разложены по папкам!\n"
     ]
    }
   ],
   "source": [
    "import os\n",
    "import requests\n",
    "from tqdm.notebook import tqdm\n",
    "\n",
    "# Словарь: папка -> список (URL, имя файла)\n",
    "files_to_download = {\n",
    "    \"ComfyUI/models/diffusion_models\": [\n",
    "        # Diffusion models\n",
    "        (\"https://huggingface.co/Comfy-Org/Qwen-Image-Edit_ComfyUI/resolve/main/split_files/diffusion_models/qwen_image_edit_fp8_e4m3fn.safetensors\",\n",
    "         \"qwen_image_edit_fp8_e4m3fn.safetensors\"),\n",
    "        (\"https://huggingface.co/Comfy-Org/Qwen-Image_ComfyUI/resolve/main/split_files/diffusion_models/qwen_image_fp8_e4m3fn.safetensors\",\n",
    "         \"qwen_image_fp8_e4m3fn.safetensors\"),\n",
    "    ],\n",
    "    \"ComfyUI/models/text_encoders\": [\n",
    "        # Text encoder\n",
    "        (\"https://huggingface.co/Comfy-Org/Qwen-Image_ComfyUI/resolve/main/split_files/text_encoders/qwen_2.5_vl_7b_fp8_scaled.safetensors\",\n",
    "         \"qwen_2.5_vl_7b_fp8_scaled.safetensors\"),\n",
    "    ],\n",
    "    \"ComfyUI/models/vae\": [\n",
    "        # VAE\n",
    "        (\"https://huggingface.co/Comfy-Org/Qwen-Image_ComfyUI/resolve/main/split_files/vae/qwen_image_vae.safetensors\",\n",
    "         \"qwen_image_vae.safetensors\"),\n",
    "    ],\n",
    "    \"ComfyUI/models/loras\": [\n",
    "        # LoRA Image Lightning\n",
    "        (\"https://huggingface.co/lightx2v/Qwen-Image-Lightning/resolve/main/Qwen-Image-Lightning-4steps-V1.0.safetensors\",\n",
    "         \"Qwen-Image-Lightning-4steps-V1.0.safetensors\"),\n",
    "        (\"https://huggingface.co/lightx2v/Qwen-Image-Lightning/resolve/main/Qwen-Image-Lightning-8steps-V1.0.safetensors\",\n",
    "         \"Qwen-Image-Lightning-8steps-V1.0.safetensors\"),\n",
    "        # LoRA Edit Lightning\n",
    "        (\"https://huggingface.co/lightx2v/Qwen-Image-Lightning/resolve/main/Qwen-Image-Edit-Lightning-4steps-V1.0.safetensors\",\n",
    "         \"Qwen-Edit-Lightning-4steps-V1.0.safetensors\"),\n",
    "        (\"https://huggingface.co/lightx2v/Qwen-Image-Lightning/resolve/main/Qwen-Image-Edit-Lightning-8steps-V1.0.safetensors\",\n",
    "         \"Qwen-Edit-Lightning-8steps-V1.0.safetensors\"),\n",
    "    ],\n",
    "    \"ComfyUI/models/upscale_models\": [\n",
    "        # Upscaler\n",
    "        (\"https://huggingface.co/uwg/upscaler/resolve/main/ESRGAN/4x_NMKD-Siax_200k.pth\",\n",
    "         \"4x_NMKD-Siax_200k.pth\"),\n",
    "    ],\n",
    "}\n",
    "\n",
    "def download_file(url, save_path):\n",
    "    \"\"\"Скачивает файл с прогрессбаром\"\"\"\n",
    "    response = requests.get(url, stream=True)\n",
    "    total_size = int(response.headers.get('content-length', 0))\n",
    "    with open(save_path, 'wb') as f, tqdm(\n",
    "        desc=os.path.basename(save_path),\n",
    "        total=total_size,\n",
    "        unit='B',\n",
    "        unit_scale=True,\n",
    "        unit_divisor=1024,\n",
    "    ) as bar:\n",
    "        for data in response.iter_content(chunk_size=1024):\n",
    "            f.write(data)\n",
    "            bar.update(len(data))\n",
    "\n",
    "# Скачиваем все файлы\n",
    "for folder, files in files_to_download.items():\n",
    "    os.makedirs(folder, exist_ok=True)\n",
    "    for url, filename in files:\n",
    "        save_path = os.path.join(folder, filename)\n",
    "        if os.path.exists(save_path):\n",
    "            print(f\"{filename} уже существует в {folder}, пропускаем.\")\n",
    "        else:\n",
    "            download_file(url, save_path)\n",
    "\n",
    "print(\"✅ Все модели, LoRA и Upscaler успешно скачаны и разложены по папкам!\")\n"
   ]
  },
  {
   "cell_type": "code",
   "execution_count": null,
   "id": "66a08907-1dfd-47aa-a9f7-28a5e555ffc6",
   "metadata": {},
   "outputs": [],
   "source": []
  }
 ],
 "metadata": {
  "kernelspec": {
   "display_name": "Python 3 (ipykernel)",
   "language": "python",
   "name": "python3"
  },
  "language_info": {
   "codemirror_mode": {
    "name": "ipython",
    "version": 3
   },
   "file_extension": ".py",
   "mimetype": "text/x-python",
   "name": "python",
   "nbconvert_exporter": "python",
   "pygments_lexer": "ipython3",
   "version": "3.13.7"
  }
 },
 "nbformat": 4,
 "nbformat_minor": 5
}
